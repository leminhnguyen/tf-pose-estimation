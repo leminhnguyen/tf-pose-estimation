{
 "cells": [
  {
   "cell_type": "markdown",
   "metadata": {},
   "source": [
    "# Human pose estimation using OpenPose with TensorFlow"
   ]
  },
  {
   "cell_type": "markdown",
   "metadata": {},
   "source": [
    "### Giới thiệu chung về OpenPose"
   ]
  },
  {
   "cell_type": "markdown",
   "metadata": {},
   "source": [
    "- OpenPose là một thư viện để dò tìm các điểm chính trên cơ thể người và chạy được đa luồng.\n",
    "- OpenPose được viết bằng ngôn ngữ C++ sử dụng OpenCv và Caffe\n",
    "- OpenPose được xây dựng dựa trên mạng neural network và đã được phát triển bởi đại học Carnegie Mellon, sử dụng bộ dữ liệu COCO và MPII\n",
    "- OpenPose đã được chuyển đổi để sử dụng cùng với Tensorflow, điều này làm cho framework này được sử dụng ngày càng rộng rãi hơn "
   ]
  },
  {
   "cell_type": "markdown",
   "metadata": {},
   "source": [
    "### OpenPose Pineline\n",
    "<hr>"
   ]
  },
  {
   "cell_type": "markdown",
   "metadata": {},
   "source": [
    "<img src=\"./images/openpose-pipeline.png\" alt=\"image\" style=\"height: 1000px\"></img>"
   ]
  },
  {
   "cell_type": "markdown",
   "metadata": {},
   "source": [
    "### Parts and Pairs\n",
    "<hr>"
   ]
  },
  {
   "cell_type": "markdown",
   "metadata": {},
   "source": [
    "- Mặc dù 2 từ này nghe có vẻ giống nhau, tuy nhiên chúng khác nhau hoàn toàn\n",
    "    + `Part` chỉ một bộ phận trên cơ thể con người (cổ, vai, tay, chân,..)\n",
    "    + `Pair` là một cặp **Part** và giữa cặp **Part** đó có sự liên kết. Tuy nhiên có những cặp thì sự liên kết sẽ không tồn tại (ví dụ như giữa tai và vai)  \n",
    "- Hình minh họa:\n",
    "\n",
    "![Parts and Pairs](./images/part-and-pair.png)"
   ]
  },
  {
   "cell_type": "markdown",
   "metadata": {},
   "source": [
    "### Neural Network"
   ]
  },
  {
   "cell_type": "markdown",
   "metadata": {},
   "source": [
    "- Đây chính là phần quan trọng nhất của OpenPose. Nó được ví von nhuw một phần bí ẩn để làm máy bay có thể bay hoặc làm cho smartphone hoạt động. Chúng ta sẽ xem nó như là một hộp đen\n",
    "\n",
    "- Thao tác cuối cùng của mạng neural network sẽ trả về một tensor chứa 57 ma trận. Tuy nhiên thao tác cuối cùng này thì chỉ là việc kết kết hợp lại của 2 tensors khác là `heatmap` và `PAF`. Vậy nên việc hiểu được 2 tensors này là điều cơ bản\n",
    "    1. **Heatmap**\n",
    "        + Một *heatmap* là một ma trận lưu lại độ tin cậy của một mạng mà một pixel cụ thể sẽ chứa một *part* cụ thể. \n",
    "        + Chúng ta sẽ có 18 heatmaps tương ứng với mỗi phần trên cơ thể người và được đánh số như hình ở trên. \n",
    "        + Việc của chúng ta là phải lấy ra được vị trí của các phần cơ thể người từ 18 ma trận đó\n",
    "        ![heatmap](./images/heatmap.png)\n",
    "    2. **PAF (Part Affinity Fields)**\n",
    "        + PAF là những ma trận sẽ cho chúng ta những thông itn về hướng của các cặp (pairs).\n",
    "        + Chúng đi theo cặp, với mỗi phần trên cơ thể người ta sẽ có một `PAF cho X` và một `PAF cho Y`.\n",
    "        + Chúng ta sẽ có `38 PAFs` tương ứng với mỗi cặp và được đánh chỉ số như hình ở trên\n",
    "        + Việc ghép các parts thành các pairs sẽ dựa vào 38 ma trận này\n",
    "        ![PAFs](./images/paf.png)"
   ]
  },
  {
   "cell_type": "markdown",
   "metadata": {},
   "source": [
    "### Non-Maximum Suppression"
   ]
  },
  {
   "cell_type": "markdown",
   "metadata": {},
   "source": [
    "- Bước tiếp theo chúng ta cần thực hiện là tìm ra được các `parts` ở trong image. Heatmap đã giúp chúng ta khá tốt, tuy nhiên ta cần sự chắc chắn hơn là sự tin cậy (`confidence` vs `certainly`). Và kỹ thuật được sử dụng là ***non-maximum suppression***\n",
    "![non-maximum suppression](./images/non-maximum-suppression.png)\n",
    "- **Các bước thực hiện của thuật toán:** \n",
    "    1. Bắt đầu ở pixel đầu tiên của heatmap\n",
    "    2. Bao quanh pixel này cùng với một cửa sổ có kích thước là 5 và tìm giá trị lớn nhất ở trong cửa sổ đó\n",
    "    3. Thay thế giá trị trung tâm cùng giá trị lớn nhất đó\n",
    "    4. Trượt cửa sổ đi 1 pixel và lặp lại các bước bên trên cho tới khi bao phủ hết heatmap\n",
    "    5. So sánh kết quả cùng với heatmap ban đầu. Những pixel nào giữ nguyên giá trị thì đó là các pixel ta cần tìm kiếm. Loại bỏ các pixel còn lại bằng việc set giá trị 0\n",
    "- Sau tất cả các quá trình thì những pixel mang giá trị khác 0 sẽ là vị trí của các `part candidates`"
   ]
  },
  {
   "cell_type": "markdown",
   "metadata": {},
   "source": [
    "### Bipartite graph"
   ]
  },
  {
   "cell_type": "markdown",
   "metadata": {},
   "source": [
    "- Sau bước ***Non-Maximum Suppression*** thì với mỗi `part` ở trên cơ thể thì ta sẽ có các `candidates` tương ứng. Chúng ta cần phải connect giữa các `parts` với nhau để tạo thành các `pairs`. Và đến đây thì ta cần phải dùng đến các kiến thức của đồ thị và cụ thể là đồ thị 2 phía.\n",
    "\n",
    "- Giả sử chúng ta có một tập **m** các `candidates of necks (cổ )` và một tập **n** các `candidates of right hip (hông phải)`. Với mỗi `necks` thì chúng ta sẽ có n connections có thẻ tới `right hip` và ngược lại. Vì vậy hình dung là ta sẽ có một đồ thị đầy đủ hai phía (complete bipartite graph). Với đồ thij này thì ta có các đỉnh là các `part candidates` và các cạnh là các `connection candidates`\n",
    "\n",
    "| ![pipartite graph](./images/bipartite-graph.png \"Complete Bipartite Graph\") |\n",
    "|:--:| \n",
    "| *Complete Bipartite Graph* |\n",
    "\n",
    "- Vấn đề hiện tại là chúng ra phải tìm ra được liên kết chính xác. Việc tìm liên kết tốt nhất được xem là một vấn đề phổ biến ở trong đồ thị và được biết là bài toán phân chia công việc, mà để giải quyết được thì mỗi cạnh trong đồ thị phải có một `weight`\n",
    "- Chúng ta sẽ thêm `weight` cho các cạnh ở bước tiếp theo"
   ]
  },
  {
   "cell_type": "markdown",
   "metadata": {},
   "source": [
    "### Line Integral"
   ]
  },
  {
   "cell_type": "markdown",
   "metadata": {},
   "source": [
    "| ![line-integral](./images/line-integral.png) |\n",
    "|:-:|\n",
    "| ***Line Integrall with PAFs***|\n",
    "\n",
    "\n",
    "- Đến đây để có thể gán weight cho các cạnh thì ta cần dùng đến `PAFs`. \n",
    "- Việc tính weight sẽ bằng cách tính tích phân đường dọc theo đoạn thẳng nối giữa các cặp parts với nhau và theo các trục x và y tương ứng"
   ]
  },
  {
   "cell_type": "markdown",
   "metadata": {},
   "source": [
    "![](./images/line-integral-diagram.png)  ![](./images/line-integral-formula.png)\n",
    "\n",
    "- Việc tính tích phân sẽ cho mỗi liên kết một `score` và sẽ được lưu ở trong đồ thị.\n",
    "- Bài toán lựa chọn liên kết sẽ được giải quyết "
   ]
  },
  {
   "cell_type": "code",
   "execution_count": null,
   "metadata": {},
   "outputs": [],
   "source": []
  }
 ],
 "metadata": {
  "kernelspec": {
   "display_name": "Python 3",
   "language": "python",
   "name": "python3"
  },
  "language_info": {
   "codemirror_mode": {
    "name": "ipython",
    "version": 3
   },
   "file_extension": ".py",
   "mimetype": "text/x-python",
   "name": "python",
   "nbconvert_exporter": "python",
   "pygments_lexer": "ipython3",
   "version": "3.7.6"
  }
 },
 "nbformat": 4,
 "nbformat_minor": 4
}
